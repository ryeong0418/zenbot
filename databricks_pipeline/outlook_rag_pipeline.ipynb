{
 "cells": [
  {
   "cell_type": "markdown",
   "id": "9f5fa9af",
   "metadata": {},
   "source": [
    "### Pipeline 구성\n",
    "1. Outlook API → JSON 데이터 수집\n",
    "2. HTML 제거 후 txt 변환 → Azure Data Lake Storage Gen2 적재\n",
    "3. Databricks에서 txt 로드 및 RecursiveCharacterTextSplitter로 split\n",
    "4. OpenAI Embedding 생성\n",
    "5. Azure AI Search에 VectorDB 구축\n",
    "6. RAG 파이프라인 구성 (Retrieval → GPT-4o 기반 응답)\n",
    "7. Streamlit 챗봇 UI 배포"
   ]
  },
  {
   "cell_type": "markdown",
   "id": "b783cd17",
   "metadata": {},
   "source": [
    "1. Outlook API → JSON 데이터 수집"
   ]
  },
  {
   "cell_type": "markdown",
   "id": "0c0e1d5e",
   "metadata": {},
   "source": [
    "2. HTML 제거 후 txt 변환 → Azure Data Lake Storage Gen2 적재"
   ]
  },
  {
   "cell_type": "code",
   "execution_count": null,
   "id": "8582a62b",
   "metadata": {
    "vscode": {
     "languageId": "plaintext"
    }
   },
   "outputs": [],
   "source": [
    "service_credential = dbutils.secrets.get(scope=\"\",key=\"\")\n",
    "print(service_credential)\n",
    " \n",
    "spark.conf.set(\"fs.azure.account.auth.type.<storagename>.dfs.core.windows.net\", \"OAuth\")\n",
    "spark.conf.set(\"fs.azure.account.oauth.provider.type.<storagename>.dfs.core.windows.net\", \"org.apache.hadoop.fs.azurebfs.oauth2.ClientCredsTokenProvider\")\n",
    "spark.conf.set(\"fs.azure.account.oauth2.client.id.<storagename>.dfs.core.windows.net\", \"d6297dc2-2fc5-478a-9584-2a9e8cae2cf1\")\n",
    "spark.conf.set(\"fs.azure.account.oauth2.client.secret.<storagename>.dfs.core.windows.net\", service_credential)\n",
    "spark.conf.set(\"fs.azure.account.oauth2.client.endpoint.<storagename>.dfs.core.windows.net\", \"https://login.microsoftonline.com/785087ba-1e72-4e7d-b1d1-4a9639137a66/oauth2/token\")\n",
    "\n",
    "print(\"Data Lake House Gen2 Connection Success\")"
   ]
  },
  {
   "cell_type": "code",
   "execution_count": null,
   "id": "437a8539",
   "metadata": {
    "vscode": {
     "languageId": "plaintext"
    }
   },
   "outputs": [],
   "source": [
    "configs = {\"fs.azure.account.auth.type\": \"OAuth\",\n",
    "          \"fs.azure.account.oauth.provider.type\": \"org.apache.hadoop.fs.azurebfs.oauth2.ClientCredsTokenProvider\",\n",
    "          \"fs.azure.account.oauth2.client.id\": \"d6297dc2-2fc5-478a-9584-2a9e8cae2cf1\",\n",
    "          \"fs.azure.account.oauth2.client.secret\": dbutils.secrets.get(scope=\"key-vault-secret3\",key=\"secretkv22\"),\n",
    "          \"fs.azure.account.oauth2.client.endpoint\": \"https://login.microsoftonline.com/785087ba-1e72-4e7d-b1d1-4a9639137a66/oauth2/token\"}\n",
    "\n",
    "# Optionally, you can add <directory-name> to the source URI of your mount point.\n",
    "dbutils.fs.mount(\n",
    "  source = \"abfss://datalake-container@storagezb.dfs.core.windows.net/\",\n",
    "  mount_point = \"/mnt/my-mount\",\n",
    "  extra_configs = configs)"
   ]
  },
  {
   "cell_type": "code",
   "execution_count": null,
   "id": "c2930c71",
   "metadata": {
    "vscode": {
     "languageId": "plaintext"
    }
   },
   "outputs": [],
   "source": [
    "mount_point = \"/mnt/my-mount\"\n",
    "\n",
    "# 마운트된 디렉터리 내의 파일과 디렉터리 목록을 가져옵니다.\n",
    "files = dbutils.fs.ls(mount_point)\n",
    "files"
   ]
  },
  {
   "cell_type": "markdown",
   "id": "4bfd0273",
   "metadata": {},
   "source": [
    "3. Databricks에서 txt 로드 및 RecursiveCharacterTextSplitter로 split"
   ]
  },
  {
   "cell_type": "code",
   "execution_count": null,
   "id": "d7626279",
   "metadata": {
    "vscode": {
     "languageId": "plaintext"
    }
   },
   "outputs": [],
   "source": [
    "\n",
    "%pip install langchain_community"
   ]
  },
  {
   "cell_type": "code",
   "execution_count": null,
   "id": "ec33f55c",
   "metadata": {
    "vscode": {
     "languageId": "plaintext"
    }
   },
   "outputs": [],
   "source": [
    "from langchain_community.document_loaders import TextLoader\n",
    "from langchain_text_splitters import RecursiveCharacterTextSplitter\n",
    "\n",
    "text_splitter = RecursiveCharacterTextSplitter(\n",
    "    chunk_size=1500,\n",
    "    chunk_overlap=200,\n",
    "    length_function=len\n",
    ")\n",
    "file_path =  ''\n",
    "loader = TextLoader(file_path=file_path)\n",
    "document_list = loader.load_and_split(text_splitter=text_splitter)\n",
    "document_list"
   ]
  },
  {
   "cell_type": "markdown",
   "id": "5fda56e8",
   "metadata": {},
   "source": [
    "4. OpenAI Embedding 생성"
   ]
  },
  {
   "cell_type": "code",
   "execution_count": null,
   "id": "ce323935",
   "metadata": {
    "vscode": {
     "languageId": "plaintext"
    }
   },
   "outputs": [],
   "source": [
    "from dotenv import load_dotenv\n",
    "from langchain_openai import OpenAIEmbeddings\n",
    "\n",
    "load_dotenv()\n",
    "\n",
    "embedding = OpenAIEmbeddings(model='text-embedding-3-large', openai_api_key='')\n",
    "embedding"
   ]
  },
  {
   "cell_type": "code",
   "execution_count": null,
   "id": "afcb0a7e",
   "metadata": {
    "vscode": {
     "languageId": "plaintext"
    }
   },
   "outputs": [],
   "source": [
    "%pip install -U azure-search-documents\n",
    "\n",
    "%pip install azure.identity\n",
    "\n",
    "%pip install --upgrade --quiet  azure-search-documents\n",
    "%pip install --upgrade --quiet  azure-identity"
   ]
  },
  {
   "cell_type": "markdown",
   "id": "7f5182d6",
   "metadata": {},
   "source": [
    "5. Azure AI Search에 VectorDB 구축"
   ]
  },
  {
   "cell_type": "code",
   "execution_count": null,
   "id": "e5308e46",
   "metadata": {
    "vscode": {
     "languageId": "plaintext"
    }
   },
   "outputs": [],
   "source": [
    "from azure.core.credentials import AzureKeyCredential\n",
    "from azure.search.documents.indexes import SearchIndexClient\n",
    "from azure.search.documents.indexes.models import SearchIndex, SimpleField, SearchFieldDataType\n",
    "\n",
    "# Initialize the search index client\n",
    "service_endpoint = ''\n",
    "key = ''\n",
    "index_name = ''\n",
    "\n",
    "index_client = SearchIndexClient(service_endpoint, AzureKeyCredential(key))\n",
    "\n",
    "# Define the index schema\n",
    "fields = [\n",
    "    SimpleField(name=\"id\", type=SearchFieldDataType.String, key=True, filterable=True),\n",
    "    SimpleField(name=\"source\", type=SearchFieldDataType.String, filterable=True, searchable=True),\n",
    "    SimpleField(name=\"page_content\", type=SearchFieldDataType.String, searchable=True)\n",
    "]\n",
    "\n",
    "index = SearchIndex(name=index_name, fields=fields)\n",
    "\n",
    "# Create the index\n",
    "index_client.create_index(index)"
   ]
  },
  {
   "cell_type": "code",
   "execution_count": null,
   "id": "f8e182df",
   "metadata": {
    "vscode": {
     "languageId": "plaintext"
    }
   },
   "outputs": [],
   "source": [
    "\n",
    "from langchain_community.vectorstores.azuresearch import AzureSearch\n",
    "\n",
    "vector_store = AzureSearch(azure_search_endpoint='',\n",
    "                            azure_search_key='',\n",
    "                            index_name='',\n",
    "                            embedding_function=embedding_model.embed_query)\n",
    "\n",
    "vector_store.add_documents(documents=document_list)"
   ]
  },
  {
   "cell_type": "markdown",
   "id": "6eab7e08",
   "metadata": {},
   "source": [
    "6. RAG 파이프라인 구성 (Retrieval → GPT-4o 기반 응답)"
   ]
  },
  {
   "cell_type": "code",
   "execution_count": null,
   "id": "c8f2c6ed",
   "metadata": {
    "vscode": {
     "languageId": "plaintext"
    }
   },
   "outputs": [],
   "source": [
    "from langchain_openai import ChatOpenAI\n",
    "from langchain.chains import RetrievalQA\n",
    "from langchain import hub\n",
    "\n",
    "query = '김민주한테 온 메일 알려줘'\n",
    "\n",
    "# Perform a similarity search\n",
    "docs = vector_store.similarity_search(\n",
    "    query=query,\n",
    "    search_type=\"similarity\",\n",
    ")\n",
    "\n",
    "\n",
    "# 기존에는 llm.invoke만 사용했지만, 이제는 문서도 같이 주어야한다. 그렇기에 prompt를 추가해주자.\n",
    "llm = ChatOpenAI(model='gpt-4o')\n",
    "prompt = hub.pull('rlm/rag-prompt')\n",
    "prompt\n",
    "\n",
    "qa_chain = RetrievalQA.from_chain_type(\n",
    "    llm,\n",
    "    retriever = vector_store.as_retriever(),\n",
    "    chain_type_kwargs={\"prompt\": prompt}\n",
    ")\n",
    "\n",
    "ai_message = qa_chain({'query':query})\n",
    "ai_message"
   ]
  },
  {
   "cell_type": "markdown",
   "id": "9cab5905",
   "metadata": {},
   "source": [
    "7. Streamlit 챗봇 UI 배포"
   ]
  },
  {
   "cell_type": "code",
   "execution_count": null,
   "id": "97000b4e",
   "metadata": {
    "vscode": {
     "languageId": "plaintext"
    }
   },
   "outputs": [],
   "source": [
    "streamlit run chat.py --server.runOnSave true"
   ]
  }
 ],
 "metadata": {
  "language_info": {
   "name": "python"
  }
 },
 "nbformat": 4,
 "nbformat_minor": 5
}
